{
 "cells": [
  {
   "cell_type": "markdown",
   "id": "707ea0e2-ece3-43a5-8cee-ae3c2fb491f4",
   "metadata": {},
   "source": [
    "# Experiment: Train/Tune BERT Model"
   ]
  },
  {
   "cell_type": "markdown",
   "id": "a7006621-50bd-4e71-ab7d-46fe72a4597f",
   "metadata": {},
   "source": [
    "## Confirm Environment"
   ]
  },
  {
   "cell_type": "code",
   "execution_count": null,
   "id": "334b7bda-1ffe-467b-b90c-16752289eced",
   "metadata": {},
   "outputs": [],
   "source": [
    "!conda info"
   ]
  },
  {
   "cell_type": "markdown",
   "id": "741bd87c-ad14-4814-b3f1-ce3cbb905ce8",
   "metadata": {},
   "source": [
    "## Setup and Imports"
   ]
  },
  {
   "cell_type": "code",
   "execution_count": null,
   "id": "e7b7ad86-254e-44c2-b68a-9feeab1af1b7",
   "metadata": {},
   "outputs": [],
   "source": [
    "from emolex.preprocessing import load_mental_health_sentiment_dataset, clean_text, encode_sentiment_labels, split_data, dl_text_vectorization\n",
    "from emolex.dl_models import bilstm_model \n",
    "from emolex.train import train_dl_model\n",
    "from emolex.evaluation import plot_training_history, generate_confusion_matrix, generate_classification_report\n",
    "from emolex.utils import detect_and_set_device"
   ]
  },
  {
   "cell_type": "markdown",
   "id": "eced5de7-e66a-450a-bc22-ae77d08f872e",
   "metadata": {},
   "source": [
    "## Device Setup"
   ]
  },
  {
   "cell_type": "code",
   "execution_count": null,
   "id": "1d992bf9-63ad-4e96-8c28-9dc342e1429e",
   "metadata": {},
   "outputs": [],
   "source": [
    "# Detect and set up GPU or use CPU\n",
    "device_used = detect_and_set_device()\n",
    "print(f\"TensorFlow is configured to use: {device_used}\")"
   ]
  },
  {
   "cell_type": "markdown",
   "id": "71f81300-c1c4-4a4d-a6e3-58f1dd5a8a95",
   "metadata": {},
   "source": [
    "## Load Data"
   ]
  },
  {
   "cell_type": "code",
   "execution_count": null,
   "id": "f9c38cc6-1003-4040-8cdd-34a131691e32",
   "metadata": {},
   "outputs": [],
   "source": [
    "df = load_mental_health_sentiment_dataset()\n",
    "df.info()\n",
    "df.head()"
   ]
  },
  {
   "cell_type": "markdown",
   "id": "efee75bc-0560-4765-8c98-69e53bb210ac",
   "metadata": {},
   "source": [
    "## Clean Data"
   ]
  },
  {
   "cell_type": "code",
   "execution_count": null,
   "id": "d37bbc0d-e422-4ca3-8360-bbfee7612a00",
   "metadata": {},
   "outputs": [],
   "source": [
    "print(f\"\\n--- Cleaning Text ---\")\n",
    "df['clean_text'] = df[\"text\"].apply(clean_text)\n",
    "print(\"Text cleaning complete. Sample cleaned text:\")\n",
    "print(\"\\n\", df[[\"text\", \"clean_text\"]].sample(5))"
   ]
  },
  {
   "cell_type": "markdown",
   "id": "48dda799-e583-417c-9670-ab72c20fa083",
   "metadata": {},
   "source": [
    "## Encode Labels"
   ]
  },
  {
   "cell_type": "code",
   "execution_count": null,
   "id": "43c7351c-4862-4401-8048-d1b659fb2078",
   "metadata": {},
   "outputs": [],
   "source": [
    "print(f\"\\n--- Encoding Labels ---\")\n",
    "df, encoder = encode_sentiment_labels(df)\n",
    "print(\"Label encoding complete. Sample encoded labels:\")\n",
    "print(\"\\n\", df[['label', 'label_encoded']].sample(5))"
   ]
  },
  {
   "cell_type": "markdown",
   "id": "6782c76f-4c69-49d9-bc97-7b8195df974c",
   "metadata": {},
   "source": [
    "## Train-Test Split"
   ]
  },
  {
   "cell_type": "code",
   "execution_count": null,
   "id": "c70d1162-6e0b-47fd-b62c-c1997e0362e9",
   "metadata": {},
   "outputs": [],
   "source": [
    "print(\"\\n--- Perform Train-Test Split ---\")\n",
    "X_train_raw, X_test_raw, y_train, y_test = split_data(df) \n",
    "print(f\"Train set size: {len(X_train_raw)} samples\")\n",
    "print(f\"Test set size: {len(X_test_raw)} samples\")"
   ]
  },
  {
   "cell_type": "markdown",
   "id": "158210e1-0a19-4be1-8519-a25b8cfac463",
   "metadata": {},
   "source": [
    "## Vectorization"
   ]
  },
  {
   "cell_type": "code",
   "execution_count": null,
   "id": "e78ee32c-a39f-4d21-a8c1-294fcef93f53",
   "metadata": {},
   "outputs": [],
   "source": [
    "print(\"\\n--- Performing Text Vectoriation ---\")\n",
    "X_train_pad_filtered, X_test_pad_filtered, y_train_filtered, y_test_filtered = dl_text_vectorization(X_train_raw, X_test_raw, y_train, y_test)\n",
    "print(\"Vecorization complete.\")"
   ]
  },
  {
   "cell_type": "markdown",
   "id": "b5402ebc-f233-48e4-be67-26fe6f1299ac",
   "metadata": {},
   "source": [
    "## Build Model"
   ]
  },
  {
   "cell_type": "markdown",
   "id": "4bddf0f4-35f6-4a3c-936c-f53d79a8627b",
   "metadata": {},
   "source": [
    "## Train Model"
   ]
  },
  {
   "cell_type": "markdown",
   "id": "a941043d-f31a-4a24-8882-d2a9a9e176bb",
   "metadata": {},
   "source": [
    "## Evaluate Model"
   ]
  },
  {
   "cell_type": "code",
   "execution_count": null,
   "id": "5aac7579-6581-4b09-aea6-741efcfd4ac8",
   "metadata": {},
   "outputs": [],
   "source": [
    "print(\"\\n--- Plot Training History ---\")\n",
    "plot_training_history(history)"
   ]
  },
  {
   "cell_type": "code",
   "execution_count": null,
   "id": "2e442c4b-0b7e-4106-916b-12f7511b7936",
   "metadata": {},
   "outputs": [],
   "source": [
    "print(\"\\n--- Predict Test Classes ---\")\n",
    "y_pred = model.predict(X_test_pad_filtered)\n",
    "y_pred_classes = y_pred.argmax(axis=1)"
   ]
  },
  {
   "cell_type": "code",
   "execution_count": null,
   "id": "ac70b794-040a-4b88-8b47-b13e8f36c79c",
   "metadata": {},
   "outputs": [],
   "source": [
    "print(\"\\n--- Generate Confusion Matrix ---\")\n",
    "fig, ax = generate_confusion_matrix(y_test_filtered, y_pred_classes, class_labels=encoder.classes_)"
   ]
  },
  {
   "cell_type": "code",
   "execution_count": null,
   "id": "f9fe04ed-e12f-498e-ba74-e7a8c250fd00",
   "metadata": {
    "scrolled": true
   },
   "outputs": [],
   "source": [
    "print(\"\\n--- Generate Classification Report ---\")\n",
    "generate_classification_report(y_test_filtered, y_pred_classes, class_labels=encoder.classes_)"
   ]
  },
  {
   "cell_type": "code",
   "execution_count": null,
   "id": "62df75c2-15e1-4d43-96af-af61d00ec7c1",
   "metadata": {},
   "outputs": [],
   "source": []
  }
 ],
 "metadata": {
  "kernelspec": {
   "display_name": "Python 3 (ipykernel)",
   "language": "python",
   "name": "python3"
  },
  "language_info": {
   "codemirror_mode": {
    "name": "ipython",
    "version": 3
   },
   "file_extension": ".py",
   "mimetype": "text/x-python",
   "name": "python",
   "nbconvert_exporter": "python",
   "pygments_lexer": "ipython3",
   "version": "3.10.18"
  }
 },
 "nbformat": 4,
 "nbformat_minor": 5
}
