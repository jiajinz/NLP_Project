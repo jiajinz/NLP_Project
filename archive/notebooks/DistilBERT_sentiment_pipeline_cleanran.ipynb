{
  "cells": [
    {
      "cell_type": "code",
      "execution_count": null,
      "id": "Fn9qC-VKpicz",
      "metadata": {
        "id": "Fn9qC-VKpicz"
      },
      "outputs": [],
      "source": [
        "!pip install -U transformers[tf] datasets"
      ]
    },
    {
      "cell_type": "code",
      "execution_count": 1,
      "id": "4a3ce355",
      "metadata": {
        "id": "4a3ce355"
      },
      "outputs": [],
      "source": [
        "\n",
        "import pandas as pd\n",
        "from transformers import DistilBertTokenizerFast, TFDistilBertForSequenceClassification\n",
        "from transformers import DataCollatorWithPadding\n",
        "from datasets import Dataset\n",
        "from sklearn.model_selection import train_test_split\n",
        "from sklearn.preprocessing import LabelEncoder\n",
        "from sklearn.metrics import classification_report, confusion_matrix\n",
        "import seaborn as sns\n",
        "import matplotlib.pyplot as plt"
      ]
    },
    {
      "cell_type": "code",
      "execution_count": 2,
      "id": "jAqdGSC8o4hk",
      "metadata": {
        "id": "jAqdGSC8o4hk"
      },
      "outputs": [],
      "source": [
        "df = pd.read_csv(\"mental_health_sentiment.csv\")"
      ]
    },
    {
      "cell_type": "code",
      "execution_count": 3,
      "id": "ll6fZq-Tmtcg",
      "metadata": {
        "colab": {
          "base_uri": "https://localhost:8080/"
        },
        "id": "ll6fZq-Tmtcg",
        "outputId": "3f4c959f-85cb-4644-9316-1d1493f5edf8"
      },
      "outputs": [
        {
          "name": "stdout",
          "output_type": "stream",
          "text": [
            "Data ready. Total samples: 51093. Class distribution:\n",
            "label_encoded\n",
            "3    16040\n",
            "2    15094\n",
            "6    10644\n",
            "0     3623\n",
            "1     2501\n",
            "5     2296\n",
            "4      895\n",
            "Name: count, dtype: int64\n"
          ]
        },
        {
          "name": "stderr",
          "output_type": "stream",
          "text": [
            "/tmp/ipython-input-3-3363334278.py:18: SettingWithCopyWarning: \n",
            "A value is trying to be set on a copy of a slice from a DataFrame.\n",
            "Try using .loc[row_indexer,col_indexer] = value instead\n",
            "\n",
            "See the caveats in the documentation: https://pandas.pydata.org/pandas-docs/stable/user_guide/indexing.html#returning-a-view-versus-a-copy\n",
            "  df[\"label_encoded\"] = encoder.fit_transform(df[\"label\"])\n"
          ]
        }
      ],
      "source": [
        "\n",
        "try:\n",
        "    df = pd.read_csv(\"mental_health_sentiment.csv\", index_col=0, engine='python', on_bad_lines='skip')\n",
        "except Exception as e:\n",
        "    print(\"Failed to read CSV:\", e)\n",
        "\n",
        "df = df.dropna(subset=[\"statement\", \"status\"])\n",
        "df = df.rename(columns={\"statement\": \"text\", \"status\": \"label\"})\n",
        "\n",
        "df[\"text\"] = df[\"text\"].astype(str).str.strip()\n",
        "df = df[df[\"text\"] != \"\"]\n",
        "df = df.drop_duplicates(subset=[\"text\", \"label\"])\n",
        "\n",
        "encoder = LabelEncoder()\n",
        "df[\"label_encoded\"] = encoder.fit_transform(df[\"label\"])\n",
        "\n",
        "class_counts = df[\"label_encoded\"].value_counts()\n",
        "valid_labels = class_counts[class_counts >= 2].index\n",
        "df = df[df[\"label_encoded\"].isin(valid_labels)]\n",
        "\n",
        "X = df[\"text\"].reset_index(drop=True)\n",
        "y = df[\"label_encoded\"].reset_index(drop=True)\n",
        "\n",
        "print(f\"Data ready. Total samples: {len(df)}. Class distribution:\\n{df['label_encoded'].value_counts()}\")"
      ]
    },
    {
      "cell_type": "code",
      "execution_count": 7,
      "id": "fNuw5KSkqJMV",
      "metadata": {
        "id": "fNuw5KSkqJMV"
      },
      "outputs": [],
      "source": [
        "from sklearn.utils.class_weight import compute_class_weight\n",
        "import numpy as np\n"
      ]
    },
    {
      "cell_type": "code",
      "execution_count": 8,
      "id": "222bc43e",
      "metadata": {
        "id": "222bc43e"
      },
      "outputs": [],
      "source": [
        "# Split data\n",
        "X_train, X_test, y_train, y_test = train_test_split(X, y, stratify=y, test_size=0.2, random_state=42)\n",
        "\n",
        "# Reset indices\n",
        "X_train = X_train.reset_index(drop=True)\n",
        "X_test = X_test.reset_index(drop=True)\n",
        "y_train = y_train.reset_index(drop=True)\n",
        "y_test = y_test.reset_index(drop=True)\n",
        "\n",
        "# Compute class weights\n",
        "class_weights = compute_class_weight('balanced', classes=np.unique(y_train), y=y_train)\n",
        "class_weight_dict = dict(enumerate(class_weights))\n"
      ]
    },
    {
      "cell_type": "code",
      "execution_count": 9,
      "id": "SfsMN3nB5RJP",
      "metadata": {
        "id": "SfsMN3nB5RJP"
      },
      "outputs": [],
      "source": [
        "y_train = y_train.astype(int)\n",
        "y_test = y_test.astype(int)\n",
        "\n",
        "\n",
        "X_train = X_train.astype(str)\n",
        "X_test = X_test.astype(str)\n"
      ]
    },
    {
      "cell_type": "code",
      "execution_count": 15,
      "id": "auQYU-kZnlxN",
      "metadata": {
        "colab": {
          "base_uri": "https://localhost:8080/",
          "height": 455
        },
        "id": "auQYU-kZnlxN",
        "outputId": "69bab3e9-8ab9-4b05-aec8-80f0f366b087"
      },
      "outputs": [
        {
          "name": "stdout",
          "output_type": "stream",
          "text": [
            "Collecting numpy==1.24.4\n",
            "  Downloading numpy-1.24.4-cp311-cp311-manylinux_2_17_x86_64.manylinux2014_x86_64.whl.metadata (5.6 kB)\n",
            "Downloading numpy-1.24.4-cp311-cp311-manylinux_2_17_x86_64.manylinux2014_x86_64.whl (17.3 MB)\n",
            "\u001b[2K   \u001b[90m━━━━━━━━━━━━━━━━━━━━━━━━━━━━━━━━━━━━━━━━\u001b[0m \u001b[32m17.3/17.3 MB\u001b[0m \u001b[31m109.2 MB/s\u001b[0m eta \u001b[36m0:00:00\u001b[0m\n",
            "\u001b[?25hInstalling collected packages: numpy\n",
            "  Attempting uninstall: numpy\n",
            "    Found existing installation: numpy 2.0.2\n",
            "    Uninstalling numpy-2.0.2:\n",
            "      Successfully uninstalled numpy-2.0.2\n",
            "\u001b[31mERROR: pip's dependency resolver does not currently take into account all the packages that are installed. This behaviour is the source of the following dependency conflicts.\n",
            "jaxlib 0.5.1 requires numpy>=1.25, but you have numpy 1.24.4 which is incompatible.\n",
            "jax 0.5.2 requires numpy>=1.25, but you have numpy 1.24.4 which is incompatible.\n",
            "blosc2 3.5.0 requires numpy>=1.26, but you have numpy 1.24.4 which is incompatible.\n",
            "treescope 0.1.9 requires numpy>=1.25.2, but you have numpy 1.24.4 which is incompatible.\n",
            "pymc 5.23.0 requires numpy>=1.25.0, but you have numpy 1.24.4 which is incompatible.\n",
            "tensorflow 2.18.0 requires numpy<2.1.0,>=1.26.0, but you have numpy 1.24.4 which is incompatible.\n",
            "thinc 8.3.6 requires numpy<3.0.0,>=2.0.0, but you have numpy 1.24.4 which is incompatible.\n",
            "xarray-einstats 0.9.1 requires numpy>=1.25, but you have numpy 1.24.4 which is incompatible.\u001b[0m\u001b[31m\n",
            "\u001b[0mSuccessfully installed numpy-1.24.4\n"
          ]
        },
        {
          "data": {
            "application/vnd.colab-display-data+json": {
              "id": "92bb21f7076a4924a62e731b8007f338",
              "pip_warning": {
                "packages": [
                  "numpy"
                ]
              }
            }
          },
          "metadata": {},
          "output_type": "display_data"
        }
      ],
      "source": [
        "!pip install numpy==1.24.4"
      ]
    },
    {
      "cell_type": "code",
      "execution_count": 17,
      "id": "3fa6e13d",
      "metadata": {
        "colab": {
          "base_uri": "https://localhost:8080/",
          "height": 145,
          "referenced_widgets": [
            "f09fcb3508554a4ea7af6f992db0bd4c",
            "c9332a18de9c46cbbc9f85428e7606fd",
            "7fb9c327c9dd4f0997710d07f6198b1d",
            "a450bb63328f4d71aa894d457765c548",
            "bdbc035eaa4b40a599bc4e9a7f25dcc4",
            "366edfe4dc02468fb283bada85a4ba76",
            "bafae64f2ee946869c057eaec90d4ef5",
            "e5272f4abcdd484cb1965c3fa6617c89",
            "dc9e5c1b7a3742e1bbf549ac80ae0c84",
            "71945229f4084e9ca21e073a6d813b95",
            "da914ee2ffe94b75bcb97b992b0e587c",
            "d7fa91134d064782a50ecb3827a38375",
            "6ea2271e2d3c48ec933586ce2ee3bd6d",
            "3b176d8ec1ae428b88e3f95d5ca4e930",
            "c4dc75a752dd4e178639007149dd6452",
            "066cd9ac1e9d46888d23cd7fe44abb4a",
            "77f34de6606e46d6b2588b851451436c",
            "cc99f50271ae497b8c7da150668f57ae",
            "962f003fe195410ba92975b1a43ce4a2",
            "533048971f904ed4b4f740716958f0fa",
            "9c4fb6273447439caa14d74d1ef847f4",
            "40fe86ac21004d89b77941991e688acf",
            "18ee97232d9b47d881297e8853559165",
            "b70a6f7830d643559af77647d354a859",
            "0b2ff42f2a2b41e9b12045a419994223",
            "9ccb399487a94a16bf28418678629d6c",
            "9b1b44ca8d664f80b01fa91916da8b25",
            "73e21b4ef3f5450c91e499af3a4f78bc",
            "a62dc0812b6a42c6afd38921e61ca48e",
            "12400ddbe1e0436baae9e0f3d0110ee7",
            "3eb8faa1c9d346349f337be321822ec0",
            "e138e160e5a042d797acd0a7df09e912",
            "55f072a481374499bcd67f2bf5b08915",
            "6a42c5850d1d4c8abf05619cdd26f843",
            "dc935b6616334425b3128e9ad26c14ce",
            "7c8bfeeca6d34d878784b17cb077802a",
            "8b655ede28364e73a606bda625e872d7",
            "9cda9f9a0cbc4710807b76b4391882b0",
            "bffebd67f30644e284244db00719e6b2",
            "54c8cb81448346429368c65bf385f5f2",
            "4bdd525e8da948678523cfb241fe4a5a",
            "0e8fdf461f9a4cd1a8307a0ca58180ad",
            "0e8d0dbb71bc4c86ba5982bea3356dff",
            "b58f6a6dbf30465e9bc5da9a45b4ed3b"
          ]
        },
        "id": "3fa6e13d",
        "outputId": "bd6fcba5-9461-4278-abe5-4f7ad99bd32b"
      },
      "outputs": [
        {
          "data": {
            "application/vnd.jupyter.widget-view+json": {
              "model_id": "f09fcb3508554a4ea7af6f992db0bd4c",
              "version_major": 2,
              "version_minor": 0
            },
            "text/plain": [
              "Map:   0%|          | 0/40874 [00:00<?, ? examples/s]"
            ]
          },
          "metadata": {},
          "output_type": "display_data"
        },
        {
          "data": {
            "application/vnd.jupyter.widget-view+json": {
              "model_id": "d7fa91134d064782a50ecb3827a38375",
              "version_major": 2,
              "version_minor": 0
            },
            "text/plain": [
              "Map:   0%|          | 0/10219 [00:00<?, ? examples/s]"
            ]
          },
          "metadata": {},
          "output_type": "display_data"
        },
        {
          "data": {
            "application/vnd.jupyter.widget-view+json": {
              "model_id": "18ee97232d9b47d881297e8853559165",
              "version_major": 2,
              "version_minor": 0
            },
            "text/plain": [
              "Map:   0%|          | 0/40874 [00:00<?, ? examples/s]"
            ]
          },
          "metadata": {},
          "output_type": "display_data"
        },
        {
          "data": {
            "application/vnd.jupyter.widget-view+json": {
              "model_id": "6a42c5850d1d4c8abf05619cdd26f843",
              "version_major": 2,
              "version_minor": 0
            },
            "text/plain": [
              "Map:   0%|          | 0/10219 [00:00<?, ? examples/s]"
            ]
          },
          "metadata": {},
          "output_type": "display_data"
        }
      ],
      "source": [
        "# Tokenizer and HF Dataset\n",
        "tokenizer = DistilBertTokenizerFast.from_pretrained(\"distilbert-base-uncased\")\n",
        "\n",
        "train_dataset = Dataset.from_dict({\"text\": X_train.tolist(), \"label\": y_train.tolist()})\n",
        "test_dataset = Dataset.from_dict({\"text\": X_test.tolist(), \"label\": y_test.tolist()})\n",
        "\n",
        "# Tokenize\n",
        "def tokenize(batch):\n",
        "    return tokenizer(batch[\"text\"], truncation=True, padding=\"max_length\", max_length=128)\n",
        "\n",
        "train_dataset = train_dataset.map(tokenize, batched=True)\n",
        "test_dataset = test_dataset.map(tokenize, batched=True)\n",
        "\n",
        "# Force labels to be native int\n",
        "train_dataset = train_dataset.map(lambda x: {\"label\": int(x[\"label\"])})\n",
        "test_dataset = test_dataset.map(lambda x: {\"label\": int(x[\"label\"])})\n",
        "\n",
        "# Data collator\n",
        "data_collator = DataCollatorWithPadding(tokenizer=tokenizer, return_tensors=\"tf\")\n",
        "\n",
        "# Convert to TensorFlow Datasets\n",
        "tf_train = train_dataset.to_tf_dataset(\n",
        "    columns=[\"input_ids\", \"attention_mask\"],\n",
        "    label_cols=\"label\",\n",
        "    shuffle=True,\n",
        "    batch_size=64,\n",
        "    collate_fn=data_collator,\n",
        ")\n",
        "\n",
        "tf_test = test_dataset.to_tf_dataset(\n",
        "    columns=[\"input_ids\", \"attention_mask\"],\n",
        "    label_cols=\"label\",\n",
        "    shuffle=False,\n",
        "    batch_size=64,\n",
        "    collate_fn=data_collator,\n",
        ")"
      ]
    },
    {
      "cell_type": "code",
      "execution_count": 12,
      "id": "yIBa2ZA2qa3m",
      "metadata": {
        "id": "yIBa2ZA2qa3m"
      },
      "outputs": [],
      "source": [
        "import tensorflow as tf"
      ]
    },
    {
      "cell_type": "code",
      "execution_count": 18,
      "id": "16a16f53",
      "metadata": {
        "colab": {
          "base_uri": "https://localhost:8080/"
        },
        "id": "16a16f53",
        "outputId": "a803908c-f34f-4366-e150-41ba0c7aca2a"
      },
      "outputs": [
        {
          "metadata": {
            "tags": null
          },
          "name": "stderr",
          "output_type": "stream",
          "text": [
            "Some weights of the PyTorch model were not used when initializing the TF 2.0 model TFDistilBertForSequenceClassification: ['vocab_projector.bias', 'vocab_layer_norm.weight', 'vocab_layer_norm.bias', 'vocab_transform.bias', 'vocab_transform.weight']\n",
            "- This IS expected if you are initializing TFDistilBertForSequenceClassification from a PyTorch model trained on another task or with another architecture (e.g. initializing a TFBertForSequenceClassification model from a BertForPreTraining model).\n",
            "- This IS NOT expected if you are initializing TFDistilBertForSequenceClassification from a PyTorch model that you expect to be exactly identical (e.g. initializing a TFBertForSequenceClassification model from a BertForSequenceClassification model).\n",
            "Some weights or buffers of the TF 2.0 model TFDistilBertForSequenceClassification were not initialized from the PyTorch model and are newly initialized: ['pre_classifier.weight', 'pre_classifier.bias', 'classifier.weight', 'classifier.bias']\n",
            "You should probably TRAIN this model on a down-stream task to be able to use it for predictions and inference.\n"
          ]
        },
        {
          "name": "stdout",
          "output_type": "stream",
          "text": [
            "Epoch 1/3\n",
            "639/639 [==============================] - 2959s 5s/step - loss: 0.8046 - accuracy: 0.7152 - val_loss: 0.5814 - val_accuracy: 0.7574\n",
            "Epoch 2/3\n",
            "639/639 [==============================] - 2906s 5s/step - loss: 0.4708 - accuracy: 0.8001 - val_loss: 0.4880 - val_accuracy: 0.7979\n",
            "Epoch 3/3\n",
            "639/639 [==============================] - 2909s 5s/step - loss: 0.3338 - accuracy: 0.8330 - val_loss: 0.5085 - val_accuracy: 0.7984\n"
          ]
        }
      ],
      "source": [
        "num_labels = df[\"label_encoded\"].nunique()\n",
        "model = TFDistilBertForSequenceClassification.from_pretrained(\"distilbert-base-uncased\", num_labels=num_labels)\n",
        "\n",
        "model.compile(\n",
        "    optimizer=tf.keras.optimizers.Adam(learning_rate=5e-5),\n",
        "    loss=tf.keras.losses.SparseCategoricalCrossentropy(from_logits=True),\n",
        "    metrics=[\"accuracy\"],\n",
        ")\n",
        "\n",
        "\n",
        "tf_test = test_dataset.to_tf_dataset(\n",
        "    columns=[\"input_ids\", \"attention_mask\"],\n",
        "    label_cols=\"label\",\n",
        "    shuffle=False,\n",
        "    batch_size=32,\n",
        "    collate_fn=data_collator,\n",
        ")\n",
        "\n",
        "\n",
        "history = model.fit(\n",
        "    tf_train,\n",
        "    validation_data=tf_test,\n",
        "    epochs=3,\n",
        "    class_weight=class_weight_dict\n",
        ")\n"
      ]
    },
    {
      "cell_type": "code",
      "execution_count": 19,
      "id": "55e54a3b",
      "metadata": {
        "colab": {
          "base_uri": "https://localhost:8080/",
          "height": 864
        },
        "id": "55e54a3b",
        "outputId": "cb939eea-2f91-4939-bc09-010f7b941fc3"
      },
      "outputs": [
        {
          "name": "stdout",
          "output_type": "stream",
          "text": [
            "320/320 [==============================] - 216s 663ms/step\n",
            "                      precision    recall  f1-score   support\n",
            "\n",
            "             Anxiety       0.87      0.83      0.85       725\n",
            "             Bipolar       0.78      0.83      0.80       500\n",
            "          Depression       0.78      0.71      0.75      3019\n",
            "              Normal       0.97      0.91      0.94      3208\n",
            "Personality disorder       0.34      0.84      0.48       179\n",
            "              Stress       0.69      0.72      0.70       459\n",
            "            Suicidal       0.69      0.75      0.72      2129\n",
            "\n",
            "            accuracy                           0.80     10219\n",
            "           macro avg       0.73      0.80      0.75     10219\n",
            "        weighted avg       0.82      0.80      0.80     10219\n",
            "\n"
          ]
        },
        {
          "data": {
            "image/png": "[encoded data removed]",
            "text/plain": [
              "<Figure size 640x480 with 2 Axes>"
            ]
          },
          "metadata": {},
          "output_type": "display_data"
        }
      ],
      "source": [
        "# Evaluate\n",
        "preds = model.predict(tf_test).logits\n",
        "y_pred = preds.argmax(axis=1)\n",
        "\n",
        "print(classification_report(y_test, y_pred, target_names=encoder.classes_))\n",
        "\n",
        "# Confusion matrix\n",
        "cm = confusion_matrix(y_test, y_pred)\n",
        "sns.heatmap(cm, annot=True, xticklabels=encoder.classes_, yticklabels=encoder.classes_, fmt=\"d\", cmap=\"Blues\")\n",
        "plt.xlabel(\"Predicted\")\n",
        "plt.ylabel(\"True\")\n",
        "plt.title(\"Confusion Matrix\")\n",
        "plt.show()\n"
      ]
    },
    {
      "cell_type": "code",
      "execution_count": 20,
      "id": "otvxWSVFlCz2",
      "metadata": {
        "colab": {
          "base_uri": "https://localhost:8080/"
        },
        "id": "otvxWSVFlCz2",
        "outputId": "fc58dd2e-71c7-48ae-c55c-e4ad5a480dcb"
      },
      "outputs": [
        {
          "data": {
            "text/plain": [
              "('distilbert_sentiment_model/tokenizer_config.json',\n",
              " 'distilbert_sentiment_model/special_tokens_map.json',\n",
              " 'distilbert_sentiment_model/vocab.txt',\n",
              " 'distilbert_sentiment_model/added_tokens.json',\n",
              " 'distilbert_sentiment_model/tokenizer.json')"
            ]
          },
          "execution_count": 20,
          "metadata": {},
          "output_type": "execute_result"
        }
      ],
      "source": [
        "model.save_pretrained(\"distilbert_sentiment_model\")\n",
        "tokenizer.save_pretrained(\"distilbert_sentiment_model\")"
      ]
    }
  ],
  "metadata": {
    "accelerator": "GPU",
    "colab": {
      "gpuType": "A100",
      "provenance": []
    },
    "kernelspec": {
      "display_name": "Python 3 (ipykernel)",
      "language": "python",
      "name": "python3"
    },
    "language_info": {
      "codemirror_mode": {
        "name": "ipython",
        "version": 3
      },
      "file_extension": ".py",
      "mimetype": "text/x-python",
      "name": "python",
      "nbconvert_exporter": "python",
      "pygments_lexer": "ipython3",
      "version": "3.13.2"
    }
  },
  "nbformat": 4,
  "nbformat_minor": 5
}
